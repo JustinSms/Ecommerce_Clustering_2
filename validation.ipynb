{
 "metadata": {
  "language_info": {
   "codemirror_mode": {
    "name": "ipython",
    "version": 3
   },
   "file_extension": ".py",
   "mimetype": "text/x-python",
   "name": "python",
   "nbconvert_exporter": "python",
   "pygments_lexer": "ipython3",
   "version": "3.8.3-final"
  },
  "orig_nbformat": 2,
  "kernelspec": {
   "name": "python3",
   "display_name": "Python 3",
   "language": "python"
  }
 },
 "nbformat": 4,
 "nbformat_minor": 2,
 "cells": [
  {
   "cell_type": "code",
   "execution_count": 4,
   "metadata": {},
   "outputs": [],
   "source": [
    "import numpy as pd \n",
    "import pandas as pd \n",
    "import matplotlib.pyplot as plt\n",
    "from sklearn.cluster import KMeans\n",
    "from sklearn import metrics\n",
    "from sklearn.metrics import pairwise_distances\n",
    "from sklearn.metrics import davies_bouldin_score\n",
    "import normalization\n"
   ]
  },
  {
   "cell_type": "code",
   "execution_count": 5,
   "metadata": {},
   "outputs": [],
   "source": [
    "data = pd.read_csv(\"Ecommerce Customers.csv\")\n",
    "#print(data.head(15))\n",
    "\n",
    "data_num = data[[\"Avg. Session Length\",\"Time on App\",\"Time on Website\",\"Length of Membership\",\"Yearly Amount Spent\"]]\n",
    "data_cat = data[[\"Email\",\"Address\"]]\n"
   ]
  },
  {
   "cell_type": "code",
   "execution_count": 6,
   "metadata": {},
   "outputs": [
    {
     "output_type": "execute_result",
     "data": {
      "text/plain": [
       "0.22761925055402918"
      ]
     },
     "metadata": {},
     "execution_count": 6
    }
   ],
   "source": [
    "#Cluster tendency \n",
    "#every algorithim finds at least one cluster in every dataset even the datset does not tend to have any clusters\n",
    "#hopkins statistcis is the result of a statistical test which tests on uniform distribution \n",
    "#the hopkins statistics expresses the tendency the dataset has to provide clusters \n",
    "#values which tend 0 show a relatively good cluster tendency because of a not uniform distribution \n",
    "#our datset tends to provide clusters \n",
    "\n",
    "#hopkins statistics \n",
    "from pyclustertend import hopkins\n",
    "from sklearn.preprocessing import scale\n",
    "X = scale(data_num)\n",
    "hopkins(X,395)"
   ]
  },
  {
   "cell_type": "code",
   "execution_count": 7,
   "metadata": {},
   "outputs": [
    {
     "output_type": "stream",
     "name": "stdout",
     "text": [
      "   Avg. Session Length  Time on App  Time on Website  Length of Membership  \\\n0            34.497268    12.655651        39.577668              4.082621   \n1            31.926272    11.109461        37.268959              2.664034   \n2            33.000915    11.330278        37.110597              4.104543   \n3            34.305557    13.717514        36.721283              3.120179   \n4            33.330673    12.795189        37.536653              4.446308   \n\n   Yearly Amount Spent  \n0           587.951054  \n1           392.204933  \n2           487.547505  \n3           581.852344  \n4           599.406092  \n"
     ]
    }
   ],
   "source": [
    "#Clustering Methods implemented for validation \n",
    "\n",
    "#Kmeans\n",
    "data = pd.read_csv(\"Ecommerce Customers.csv\")\n",
    "#print(data.head(5))\n",
    "\n",
    "data_clustering = data[[\"Avg. Session Length\",\"Time on App\",\"Time on Website\",\"Length of Membership\",\"Yearly Amount Spent\"]]\n",
    "print(data_clustering.head(5))\n"
   ]
  },
  {
   "cell_type": "code",
   "execution_count": 8,
   "metadata": {},
   "outputs": [
    {
     "output_type": "error",
     "ename": "SyntaxError",
     "evalue": "invalid syntax (<ipython-input-8-463950b02699>, line 1)",
     "traceback": [
      "\u001b[0;36m  File \u001b[0;32m\"<ipython-input-8-463950b02699>\"\u001b[0;36m, line \u001b[0;32m1\u001b[0m\n\u001b[0;31m    Intern cluster validation\u001b[0m\n\u001b[0m           ^\u001b[0m\n\u001b[0;31mSyntaxError\u001b[0m\u001b[0;31m:\u001b[0m invalid syntax\n"
     ]
    }
   ],
   "source": [
    "Intern cluster validation \n",
    "#silhouette coefficient on k means results  \n",
    "#takes the idea of cohesion und separation into account \n",
    "#-1 = bad clustering, 0=overlapping clusters, 1=ideal homogenius clustering) \n",
    "\n",
    "metrics.silhouette_score(x,y_means, metric='euclidean')"
   ]
  },
  {
   "cell_type": "code",
   "execution_count": 43,
   "metadata": {},
   "outputs": [
    {
     "output_type": "error",
     "ename": "NameError",
     "evalue": "name 'x' is not defined",
     "traceback": [
      "\u001b[0;31m---------------------------------------------------------------------------\u001b[0m",
      "\u001b[0;31mNameError\u001b[0m                                 Traceback (most recent call last)",
      "\u001b[0;32m<ipython-input-43-b4db92be8dc9>\u001b[0m in \u001b[0;36m<module>\u001b[0;34m\u001b[0m\n\u001b[1;32m      3\u001b[0m \u001b[0;31m#probably only meaningful in direct relation to another algorithim\u001b[0m\u001b[0;34m\u001b[0m\u001b[0;34m\u001b[0m\u001b[0;34m\u001b[0m\u001b[0m\n\u001b[1;32m      4\u001b[0m \u001b[0;34m\u001b[0m\u001b[0m\n\u001b[0;32m----> 5\u001b[0;31m \u001b[0mmetrics\u001b[0m\u001b[0;34m.\u001b[0m\u001b[0mcalinski_harabasz_score\u001b[0m\u001b[0;34m(\u001b[0m\u001b[0mx\u001b[0m\u001b[0;34m,\u001b[0m\u001b[0my_means\u001b[0m\u001b[0;34m)\u001b[0m\u001b[0;34m\u001b[0m\u001b[0;34m\u001b[0m\u001b[0m\n\u001b[0m",
      "\u001b[0;31mNameError\u001b[0m: name 'x' is not defined"
     ]
    }
   ],
   "source": [
    "#Calinski-Harabasz Index (variance ratio criterion)\n",
    "#the higher the score the better the clusters are seperated from each other \n",
    "#probably only meaningful in direct relation to another algorithim \n",
    "\n",
    "metrics.calinski_harabasz_score(x,y_means)"
   ]
  },
  {
   "cell_type": "code",
   "execution_count": 44,
   "metadata": {},
   "outputs": [
    {
     "output_type": "error",
     "ename": "NameError",
     "evalue": "name 'x' is not defined",
     "traceback": [
      "\u001b[0;31m---------------------------------------------------------------------------\u001b[0m",
      "\u001b[0;31mNameError\u001b[0m                                 Traceback (most recent call last)",
      "\u001b[0;32m<ipython-input-44-b49c35605454>\u001b[0m in \u001b[0;36m<module>\u001b[0;34m\u001b[0m\n\u001b[1;32m      1\u001b[0m \u001b[0;31m#Davies-Bouldin Index\u001b[0m\u001b[0;34m\u001b[0m\u001b[0;34m\u001b[0m\u001b[0;34m\u001b[0m\u001b[0m\n\u001b[1;32m      2\u001b[0m \u001b[0;31m#0=lowest score by having best possible seperation\u001b[0m\u001b[0;34m\u001b[0m\u001b[0;34m\u001b[0m\u001b[0;34m\u001b[0m\u001b[0m\n\u001b[0;32m----> 3\u001b[0;31m \u001b[0mdavies_bouldin_score\u001b[0m\u001b[0;34m(\u001b[0m\u001b[0mx\u001b[0m\u001b[0;34m,\u001b[0m \u001b[0my_means\u001b[0m\u001b[0;34m)\u001b[0m\u001b[0;34m\u001b[0m\u001b[0;34m\u001b[0m\u001b[0m\n\u001b[0m",
      "\u001b[0;31mNameError\u001b[0m: name 'x' is not defined"
     ]
    }
   ],
   "source": [
    "#Davies-Bouldin Index\n",
    "#0=lowest score by having best possible seperation \n",
    "davies_bouldin_score(x, y_means)"
   ]
  },
  {
   "cell_type": "code",
   "execution_count": null,
   "metadata": {},
   "outputs": [],
   "source": []
  },
  {
   "cell_type": "code",
   "execution_count": null,
   "metadata": {},
   "outputs": [],
   "source": []
  },
  {
   "cell_type": "code",
   "execution_count": null,
   "metadata": {},
   "outputs": [],
   "source": []
  },
  {
   "cell_type": "code",
   "execution_count": null,
   "metadata": {},
   "outputs": [],
   "source": []
  },
  {
   "cell_type": "code",
   "execution_count": null,
   "metadata": {},
   "outputs": [],
   "source": []
  }
 ]
}