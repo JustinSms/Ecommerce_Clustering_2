{
 "metadata": {
  "language_info": {
   "codemirror_mode": {
    "name": "ipython",
    "version": 3
   },
   "file_extension": ".py",
   "mimetype": "text/x-python",
   "name": "python",
   "nbconvert_exporter": "python",
   "pygments_lexer": "ipython3",
   "version": "3.8.3-final"
  },
  "orig_nbformat": 2,
  "kernelspec": {
   "name": "python3",
   "display_name": "Python 3",
   "language": "python"
  }
 },
 "nbformat": 4,
 "nbformat_minor": 2,
 "cells": [
  {
   "cell_type": "code",
   "execution_count": 26,
   "metadata": {},
   "outputs": [],
   "source": [
    "import pandas as pd\n",
    "import numpy as np"
   ]
  },
  {
   "cell_type": "code",
   "execution_count": 27,
   "metadata": {},
   "outputs": [],
   "source": [
    "data = pd.read_csv(\"Ecommerce Customers.csv\")\n",
    "\n",
    "data_num = data[[\"Avg. Session Length\",\"Time on App\",\"Time on Website\",\"Length of Membership\",\"Yearly Amount Spent\"]]\n"
   ]
  },
  {
   "cell_type": "code",
   "execution_count": 28,
   "metadata": {},
   "outputs": [],
   "source": [
    "#data.describe(include='all') #inkludiert auch kategorielle Variabeln "
   ]
  },
  {
   "cell_type": "code",
   "execution_count": 29,
   "metadata": {},
   "outputs": [],
   "source": [
    "#data_num.head(5)"
   ]
  },
  {
   "cell_type": "code",
   "execution_count": 30,
   "metadata": {},
   "outputs": [],
   "source": [
    "#data.isnull().sum() #Überprüfung auf fehlende Werte je Spalte "
   ]
  },
  {
   "source": [
    "Adress analysis"
   ],
   "cell_type": "markdown",
   "metadata": {}
  },
  {
   "cell_type": "code",
   "execution_count": 31,
   "metadata": {},
   "outputs": [
    {
     "output_type": "stream",
     "name": "stdout",
     "text": [
      "DE    13\nMO    13\nSC    13\nOR    12\nVT    12\nMS    11\nKS    11\nFL    11\nMN    11\nNC    10\nNJ    10\nMI     9\nHI     9\nWV     9\nME     9\nND     9\nAL     9\nAZ     9\nNY     8\nPA     8\nKY     8\nTX     8\nIL     8\nGA     8\nMT     8\nOK     7\nWY     7\nSD     7\nRI     7\nNH     7\nMA     7\nAK     7\nIN     7\nIA     7\nNV     6\nLA     6\nCA     6\nNM     6\nNE     6\nAR     6\nVA     6\nCT     5\nWI     5\nMD     5\nOH     5\nUT     5\nCO     5\nTN     5\nWA     4\nID     3\nName: State, dtype: int64\n"
     ]
    }
   ],
   "source": [
    "list_shortcut_states = [\"AL\",\"AK\",\"AZ\",\"AR\",\"CA\",\"CO\",\"CT\",\"DE\",\"FL\",\"GA\",\"HI\",\"ID\",\"IL\",\"IN\",\"IA\",\"KS\",\"KY\",\"LA\",\"ME\",\"MD\",\"MA\",\"MI\",\"MN\",\"MS\",\"MO\",\"MT\",\"NE\",\"NV\",\"NH\",\"NJ\",\"NM\",\"NY\",\"NC\",\"ND\",\"OH\",\"OK\",\"OR\",\"PA\",\"RI\",\"SC\",\"SD\",\"TN\",\"TX\",\"UT\",\"VT\",\"VA\",\"WA\",\"WV\",\"WI\",\"WY\",]\n",
    "state_list = []\n",
    "\n",
    "for i in data[\"Address\"]:\n",
    "    if \"Box\" in i:\n",
    "        index_to_drop = data[data[\"Address\"] == i].index.values \n",
    "        data.drop(index_to_drop, inplace = True)\n",
    "    else:\n",
    "        state = i.split(\",\")[-1].split()[0]\n",
    "\n",
    "        if state in list_shortcut_states:\n",
    "            state_list.append(state)\n",
    "        else:\n",
    "            index_to_drop = data[data[\"Address\"] == i].index.values \n",
    "            data.drop(index_to_drop, inplace = True)\n",
    "\n",
    "\n",
    "data.drop([\"Email\",\"Avatar\",\"Address\"], inplace = True, axis = 1)\n",
    "data.insert(5, \"State\", state_list)\n",
    "\n",
    "data_mixed = data\n",
    "data_mixed.index = range(len(data_real.index))\n",
    "\n",
    "#print(data_real.info())\n",
    "print(data_mixed.State.value_counts())"
   ]
  },
  {
   "cell_type": "code",
   "execution_count": null,
   "metadata": {},
   "outputs": [],
   "source": []
  }
 ]
}